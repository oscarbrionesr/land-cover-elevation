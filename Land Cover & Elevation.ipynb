{
 "cells": [
  {
   "cell_type": "markdown",
   "id": "fe184906",
   "metadata": {},
   "source": [
    "# Land Cover Types and Elevation Predictions\n",
    "\n",
    "The data for this project is a subset of the forest cover type data that has been used in several machine learning publications.  Find the subset of the data that you should use for the exam in my [Data GitHub repository](https://github.com/esnt/Data/tree/main/Forest) in the file called `forest.csv` (\"Forest\" folder in the main Data repo). \n",
    "\n",
    "Please include the requested code (and ONLY the requested code) in the appropriate cells below the questions.  Extra code that you used for exploring the data, building and evaluating models, and anything else, should be *well-documented* and included at the end of the notebook. As you answer the questions below, keep the following in mind:\n",
    "\n",
    "* There is not necessarily a \"best\" model that I am expecting you to find\n",
    "* You do not need to try every single type of model that we have learned in class, but I am interested in the reasons that you chose to use or not use certain models.\n",
    "* I should be able to run your notebook without error\n",
    "* You should not use ChatGPT or similar tool to help you write the code or answer the questions, but you are allowed to use the books, LearningSuite, and the internet.\n",
    "\n",
    "When you are finished, upload this .ipynb file to the Gradescrope assignment. "
   ]
  },
  {
   "cell_type": "markdown",
   "id": "454d55eb",
   "metadata": {},
   "source": [
    "### Variables\n",
    "\n",
    "Here is a description of the variables included in the data.  The target is `Cover_Type`.\n",
    "\n",
    "**Name / Data Type / Measurement / Description**\n",
    "\n",
    "* Elevation / quantitative /meters / Elevation in meters\n",
    "* Aspect / quantitative / azimuth / Aspect in degrees azimuth\n",
    "* Slope / quantitative / degrees / Slope in degrees\n",
    "* Horizontal_Distance_To_Hydrology / quantitative / meters / Horz Dist to nearest surface water features\n",
    "* Vertical_Distance_To_Hydrology / quantitative / meters / Vert Dist to nearest surface water features\n",
    "* Horizontal_Distance_To_Roadways / quantitative / meters / Horz Dist to nearest roadway\n",
    "* Hillshade_9am / quantitative / 0 to 255 index / Hillshade index at 9am, summer solstice\n",
    "* Hillshade_Noon / quantitative / 0 to 255 index / Hillshade index at noon, summer soltice\n",
    "* Hillshade_3pm / quantitative / 0 to 255 index / Hillshade index at 3pm, summer solstice\n",
    "* Horizontal_Distance_To_Fire_Points / quantitative / meters / Horz Dist to nearest wildfire ignition points\n",
    "* Wilderness_Area / qualitative / A1-A4 / Wilderness area designation\n",
    "* Soil_Type  / qualitative / S1-S40 / Soil Type designation\n",
    "* Cover_Type (2 types) / integer / 1 and 2 / Forest Cover Type designation (original data has 7 types)"
   ]
  },
  {
   "cell_type": "markdown",
   "id": "79df21e0",
   "metadata": {},
   "source": [
    "## 1. Importing libraries\n",
    "Import all the libraries that are necessary for running your code. "
   ]
  },
  {
   "cell_type": "code",
   "execution_count": 142,
   "id": "34b7462b",
   "metadata": {},
   "outputs": [],
   "source": [
    "# code here\n",
    "import pandas as pd\n",
    "import numpy as np\n",
    "import matplotlib.pyplot as plt\n",
    "\n",
    "from sklearn.preprocessing import StandardScaler\n",
    "from sklearn.impute import SimpleImputer \n",
    "from sklearn.model_selection import cross_val_score, GridSearchCV\n",
    "from sklearn.model_selection import train_test_split\n",
    "from sklearn.pipeline import Pipeline, make_pipeline\n",
    "import sklearn.metrics as skm\n",
    "from sklearn.tree import DecisionTreeClassifier\n",
    "from sklearn.ensemble import RandomForestClassifier\n",
    "from sklearn.preprocessing import OneHotEncoder\n",
    "from sklearn.linear_model import LinearRegression"
   ]
  },
  {
   "cell_type": "markdown",
   "id": "01f41b4c",
   "metadata": {},
   "source": [
    "Print the version of pandas and scikit-learn that you are using but running the cell below.  "
   ]
  },
  {
   "cell_type": "code",
   "execution_count": 117,
   "id": "831d9640",
   "metadata": {},
   "outputs": [
    {
     "name": "stdout",
     "output_type": "stream",
     "text": [
      "Pandas: 1.4.1\n",
      "Sklearn: 1.0.2\n"
     ]
    }
   ],
   "source": [
    "import sklearn\n",
    "import pandas as pd\n",
    "print(\"Pandas: \"+ pd.__version__)\n",
    "print(\"Sklearn: \"+ sklearn.__version__)"
   ]
  },
  {
   "cell_type": "markdown",
   "id": "d5b9eddf",
   "metadata": {},
   "source": [
    "---\n",
    "## 2. Importing the data\n",
    "\n",
    "Import the data"
   ]
  },
  {
   "cell_type": "code",
   "execution_count": 151,
   "id": "2b46584c",
   "metadata": {},
   "outputs": [],
   "source": [
    "# code here\n",
    "df=pd.read_csv('forest.csv')"
   ]
  },
  {
   "cell_type": "markdown",
   "id": "70124cc1",
   "metadata": {},
   "source": [
    "---\n",
    "## 3.  Processing the data"
   ]
  },
  {
   "cell_type": "code",
   "execution_count": 162,
   "id": "2c7e6f41",
   "metadata": {},
   "outputs": [],
   "source": [
    "# code here\n",
    "\n",
    "# select only the categorical columns\n",
    "categorical_columns = ['Soil_Type', 'Wilderness_Area']\n",
    "categorical_data = df[categorical_columns]\n",
    "\n",
    "# create an instance of OneHotEncoder\n",
    "encoder = OneHotEncoder()\n",
    "\n",
    "# fit and transform the categorical data\n",
    "categorical_data = encoder.fit_transform(categorical_data)\n",
    "\n",
    "# convert the sparse matrix to a dataframe\n",
    "categorical_data = pd.DataFrame(categorical_data.toarray(), columns=encoder.get_feature_names_out(categorical_columns))\n",
    "\n",
    "# drop the original categorical columns from the original dataframe\n",
    "df = df.drop(categorical_columns, axis=1)\n",
    "\n",
    "# concatenate the dataframes to create a final dataframe with only numerical values\n",
    "df = pd.concat([df, categorical_data], axis=1)\n",
    "\n",
    "#rearange dataframe\n",
    "df = df[['Elevation', 'Aspect', 'Slope', 'Horizontal_Distance_To_Hydrology',\n",
    "       'Vertical_Distance_To_Hydrology', 'Horizontal_Distance_To_Roadways',\n",
    "       'Hillshade_9am', 'Hillshade_Noon', 'Hillshade_3pm',\n",
    "       'Horizontal_Distance_To_Fire_Points', 'Soil_Type_T10',\n",
    "       'Soil_Type_T11', 'Soil_Type_T12', 'Soil_Type_T13', 'Soil_Type_T16',\n",
    "       'Soil_Type_T17', 'Soil_Type_T18', 'Soil_Type_T19', 'Soil_Type_T2',\n",
    "       'Soil_Type_T20', 'Soil_Type_T21', 'Soil_Type_T22', 'Soil_Type_T23',\n",
    "       'Soil_Type_T24', 'Soil_Type_T25', 'Soil_Type_T26', 'Soil_Type_T27',\n",
    "       'Soil_Type_T28', 'Soil_Type_T29', 'Soil_Type_T3', 'Soil_Type_T30',\n",
    "       'Soil_Type_T31', 'Soil_Type_T32', 'Soil_Type_T33', 'Soil_Type_T34',\n",
    "       'Soil_Type_T35', 'Soil_Type_T36', 'Soil_Type_T38', 'Soil_Type_T39',\n",
    "       'Soil_Type_T4', 'Soil_Type_T40', 'Soil_Type_T6', 'Soil_Type_T7',\n",
    "       'Soil_Type_T8', 'Soil_Type_T9', 'Soil_Type_nan', 'Wilderness_Area_A1',\n",
    "       'Wilderness_Area_A2', 'Wilderness_Area_A3', 'Wilderness_Area_A4',\n",
    "       'Wilderness_Area_nan', 'Cover_Type']]\n",
    "\n",
    "#Separate response from explanatory variables\n",
    "y =df['Cover_Type']\n",
    "X = df.loc[:,'Elevation':'Wilderness_Area_nan'] \n",
    "\n",
    "#Split the data into a training and test set with 25% of the data in the test set and random state=307.\n",
    "Xtrain, Xtest, ytrain, ytest = train_test_split(X,y, test_size=0.25, random_state=307)\n",
    "\n",
    "#Create a processing pipeline using that fills missing values and transforms the predictors to the same scale.\n",
    "pipe = Pipeline([('impute', SimpleImputer(strategy=\"mean\")),\n",
    "                ('scaler', StandardScaler()),\n",
    "                ])\n",
    "\n",
    "#Update the X-training data by first fitting and then transforming the original Xtraining data with the processing pipeline\n",
    "Xtrain = pipe.fit_transform(Xtrain)\n",
    "\n",
    "#Update the X-test data by transforming the original X-test data with the pipeline trained in the previous step\n",
    "Xtest = pipe.transform(Xtest)"
   ]
  },
  {
   "cell_type": "markdown",
   "id": "da84f3e2",
   "metadata": {},
   "source": [
    "#### In the markdown cell below, describe the way you decided to process the data and the reasons behind those choices"
   ]
  },
  {
   "attachments": {},
   "cell_type": "markdown",
   "id": "c3507e18",
   "metadata": {},
   "source": [
    "I decided to first, convert categorical varibles to numeric with onehot encoder, then create training and testing sets, and finally piping the sets in order to scale and impute missing values"
   ]
  },
  {
   "cell_type": "markdown",
   "id": "60459f9a",
   "metadata": {},
   "source": [
    "---\n",
    "## 4. Fitting a classification model\n",
    "\n",
    " Build an appropriate classification model that is NOT an ensemble.  This model should have optimized hyperparameters.   Report the generalization (1) accuracy, (2) F1, and (3) AUC.\n",
    "\n",
    "Include only the code that fits the model and computes your best estimates of the generalization metrics.   \n",
    "\n",
    "For example, the code in the box should be something like:\n",
    "```\n",
    "clf = MyBestClassifier(hyperparameters = tuned_values)\n",
    "# code to fit model (not commented)\n",
    "# code to compute generalization metrics (not commented)\n",
    "print(accuracy)\n",
    "print(F1)\n",
    "print(AUC)\n",
    "```"
   ]
  },
  {
   "cell_type": "code",
   "execution_count": 163,
   "id": "af83920c",
   "metadata": {},
   "outputs": [
    {
     "name": "stdout",
     "output_type": "stream",
     "text": [
      "Accuracy: 0.8183079056865464\n",
      "              precision    recall  f1-score   support\n",
      "\n",
      "         1.0       0.79      0.78      0.78      3698\n",
      "         2.0       0.84      0.85      0.84      4954\n",
      "\n",
      "    accuracy                           0.82      8652\n",
      "   macro avg       0.81      0.81      0.81      8652\n",
      "weighted avg       0.82      0.82      0.82      8652\n",
      "\n",
      "AUC: 0.8128539185711358\n"
     ]
    }
   ],
   "source": [
    "# ** THE ADDITIONAL CODE SECTION HAS THE CODE FOR OPTIMIZING PARAMETERS WITH GRIDSEARCH **\n",
    " \n",
    "#create and fit classifier\n",
    "tree = DecisionTreeClassifier(criterion='gini', max_depth=12)\n",
    "tree.fit(Xtrain, ytrain)\n",
    "\n",
    "#predict with test set\n",
    "ypred = tree.predict(Xtest)\n",
    "\n",
    "#print generalization metrics\n",
    "print(\"Accuracy:\", skm.accuracy_score(ytest, ypred))\n",
    "print(skm.classification_report(ytest, ypred))\n",
    "print(\"AUC:\", skm.roc_auc_score(ytest, ypred))"
   ]
  },
  {
   "cell_type": "markdown",
   "id": "a62eb7de",
   "metadata": {},
   "source": [
    "#### In the markdown cell below, describe the process that you used to build your model.\n",
    "\n",
    "Be sure to include why or why not you chose to consider different (non-ensemble) models that we've learned about and how you optimized any relevant hyperparameters in your final model."
   ]
  },
  {
   "attachments": {},
   "cell_type": "markdown",
   "id": "8229e4db",
   "metadata": {},
   "source": [
    "Non-Ensemble models can be good when we can't afford a lot of computation. Bigger data sets can be good for non-ensemble models because there is enough data to find decent predictions and performance.\n",
    "I used the decision tree classifier, optimized by running a gridsearch with multiple values for the parameters, then found the best ones and fitted it with the training data and made predictions."
   ]
  },
  {
   "cell_type": "markdown",
   "id": "0baa4207",
   "metadata": {},
   "source": [
    "---\n",
    "## 5. Fitting another classification model\n",
    "\n",
    "Build an appropriate classification model that IS an ensemble and report the generalization (1) accuracy, (2) F1, and (3) AUC.\n",
    "\n",
    "Include only the code that fits the model and computes your best estimates of the generalization metrics. "
   ]
  },
  {
   "cell_type": "code",
   "execution_count": 164,
   "id": "c16178ba",
   "metadata": {},
   "outputs": [
    {
     "name": "stdout",
     "output_type": "stream",
     "text": [
      "Accuracy: 0.8688164586222838\n",
      "              precision    recall  f1-score   support\n",
      "\n",
      "         1.0       0.87      0.82      0.84      3698\n",
      "         2.0       0.87      0.91      0.89      4954\n",
      "\n",
      "    accuracy                           0.87      8652\n",
      "   macro avg       0.87      0.86      0.86      8652\n",
      "weighted avg       0.87      0.87      0.87      8652\n",
      "\n",
      "AUC: 0.8621016433939676\n"
     ]
    }
   ],
   "source": [
    "# code here\n",
    "\n",
    "#create and fit classifier\n",
    "rf = RandomForestClassifier(n_estimators=100, criterion='entropy', max_features='log2')\n",
    "rf.fit(Xtrain, ytrain)\n",
    "\n",
    "#predict with test set\n",
    "ypred = rf.predict(Xtest)\n",
    "\n",
    "#print generalization metrics\n",
    "print(\"Accuracy:\", skm.accuracy_score(ytest, ypred))\n",
    "print(skm.classification_report(ytest, ypred))\n",
    "print(\"AUC:\", skm.roc_auc_score(ytest, ypred))"
   ]
  },
  {
   "cell_type": "markdown",
   "id": "976b0841",
   "metadata": {},
   "source": [
    "#### In the markdown cell below, describe the process that you used to build your model.\n",
    "\n",
    "Be sure to include why or why not you chose to consider different (ensemble) models that we've learned about and how you optimized any relevant hyperparameters in your final model."
   ]
  },
  {
   "attachments": {},
   "cell_type": "markdown",
   "id": "9ab63afa",
   "metadata": {},
   "source": [
    "Ensemble models are great because they use different models and combine all their best parts to come up with the best performance possible. We can see that the metrics were better overall than the non-ensemble model.\n",
    "I used the random forest classifier, optimized by running with a few different values for the parameters, then fitted it with the training data and made predictions.\n"
   ]
  },
  {
   "cell_type": "markdown",
   "id": "f17beb62",
   "metadata": {},
   "source": [
    "---\n",
    "## 6.  Generalization Metrics\n",
    "\n",
    "In the markdown cell below, describe how you chose to estimate and compute the generalization metrics.  "
   ]
  },
  {
   "attachments": {},
   "cell_type": "markdown",
   "id": "ba222e1c",
   "metadata": {},
   "source": [
    "I used the metrics elements from sklearn. I included the predictions and the true values to obtain the socres of the metrics."
   ]
  },
  {
   "cell_type": "markdown",
   "id": "a1c91154",
   "metadata": {},
   "source": [
    "---\n",
    "## 7. Important variables\n",
    "\n",
    "If possible, say which variables seem to be the most important for the prediction.  Also comment briefly on how you determined which variables are important. If it is not possible, say why not.  "
   ]
  },
  {
   "cell_type": "code",
   "execution_count": null,
   "id": "5b38e829",
   "metadata": {},
   "outputs": [],
   "source": [
    "#** Please see the additional code section to find the code where I found the most important variables. ** \n",
    "\n",
    "#The top 3 variables that seem most important for prediction are Elevation, Vertical_Distance_To_Hydrology, and Hillshade_3pm. \n",
    "#The \"feature_importances\" attribute in the classifiers can show which variables are the most important, they I just plotted them"
   ]
  },
  {
   "attachments": {},
   "cell_type": "markdown",
   "id": "12903aab",
   "metadata": {},
   "source": [
    "---\n",
    "## 8. Making Predictions\n",
    "\n",
    "Use your best model (the one from either part 4 or part 5) to predict the classes for the instances in the `newdata.csv` file.  Show the code you use to make the prediction and the predictions themselve (there are only 10 new instances, so it is possible print them out)\n"
   ]
  },
  {
   "cell_type": "code",
   "execution_count": 123,
   "id": "94bcf2f8",
   "metadata": {},
   "outputs": [
    {
     "name": "stdout",
     "output_type": "stream",
     "text": [
      "[2. 1. 2. 2. 2. 1. 2. 2. 2. 1.]\n"
     ]
    }
   ],
   "source": [
    "# ** PLEASE GO TO THE BOTOM OF THE NOTEBOOK FIRST, AND RUN THE CODE FOR Q8 TO PREPARE DATASET, THEN RUN THIS BOX **\n",
    "\n",
    "#Predict and print\n",
    "preds = rf.predict(new_pred)\n",
    "print(preds)"
   ]
  },
  {
   "cell_type": "markdown",
   "id": "b5fa00ba",
   "metadata": {},
   "source": [
    "---\n",
    "## 9.  Regression\n",
    "\n",
    "Now suppose that you want to predict \"Elevation\". Repeat steps (2) and (3).  This time use \"Elevation\" as the target and the other variables (except \"Cover_Type\") as the predictors.  "
   ]
  },
  {
   "cell_type": "code",
   "execution_count": 124,
   "id": "bc7a09de",
   "metadata": {},
   "outputs": [],
   "source": [
    "#STEPS FROM 2 & 3:\n",
    "\n",
    "# code here\n",
    "df=pd.read_csv('forest.csv')\n",
    "\n",
    "# select only the categorical columns\n",
    "categorical_columns = ['Soil_Type', 'Wilderness_Area']\n",
    "categorical_data = df[categorical_columns]\n",
    "\n",
    "# create an instance of OneHotEncoder\n",
    "encoder = OneHotEncoder()\n",
    "\n",
    "# fit and transform the categorical data\n",
    "categorical_data = encoder.fit_transform(categorical_data)\n",
    "\n",
    "# convert the sparse matrix to a dataframe\n",
    "categorical_data = pd.DataFrame(categorical_data.toarray(), columns=encoder.get_feature_names_out(categorical_columns))\n",
    "\n",
    "# drop the original categorical columns from the original dataframe\n",
    "df = df.drop(categorical_columns, axis=1)\n",
    "\n",
    "# concatenate the dataframes to create a final dataframe with only numerical values\n",
    "df = pd.concat([df, categorical_data], axis=1)\n",
    "\n",
    "#rearange dataframe\n",
    "df = df[['Aspect', 'Slope', 'Horizontal_Distance_To_Hydrology',\n",
    "       'Vertical_Distance_To_Hydrology', 'Horizontal_Distance_To_Roadways',\n",
    "       'Hillshade_9am', 'Hillshade_Noon', 'Hillshade_3pm',\n",
    "       'Horizontal_Distance_To_Fire_Points', 'Soil_Type_T10',\n",
    "       'Soil_Type_T11', 'Soil_Type_T12', 'Soil_Type_T13', 'Soil_Type_T16',\n",
    "       'Soil_Type_T17', 'Soil_Type_T18', 'Soil_Type_T19', 'Soil_Type_T2',\n",
    "       'Soil_Type_T20', 'Soil_Type_T21', 'Soil_Type_T22', 'Soil_Type_T23',\n",
    "       'Soil_Type_T24', 'Soil_Type_T25', 'Soil_Type_T26', 'Soil_Type_T27',\n",
    "       'Soil_Type_T28', 'Soil_Type_T29', 'Soil_Type_T3', 'Soil_Type_T30',\n",
    "       'Soil_Type_T31', 'Soil_Type_T32', 'Soil_Type_T33', 'Soil_Type_T34',\n",
    "       'Soil_Type_T35', 'Soil_Type_T36', 'Soil_Type_T38', 'Soil_Type_T39',\n",
    "       'Soil_Type_T4', 'Soil_Type_T40', 'Soil_Type_T6', 'Soil_Type_T7',\n",
    "       'Soil_Type_T8', 'Soil_Type_T9', 'Soil_Type_nan', 'Wilderness_Area_A1',\n",
    "       'Wilderness_Area_A2', 'Wilderness_Area_A3', 'Wilderness_Area_A4',\n",
    "       'Wilderness_Area_nan', 'Elevation']]\n",
    "\n",
    "#Separate response from explanatory variables\n",
    "y =df['Elevation']\n",
    "X = df.loc[:,'Aspect':'Wilderness_Area_nan'] \n",
    "\n",
    "#Split the data into a training and test set with 25% of the data in the test set and random state=307.\n",
    "Xtrain, Xtest, ytrain, ytest = train_test_split(X,y, test_size=0.25, random_state=307)\n",
    "\n",
    "#Create a processing pipeline using that fills missing values and transforms the predictors to the same scale.\n",
    "pipe = Pipeline([('impute', SimpleImputer(strategy=\"mean\")),\n",
    "                ('scaler', StandardScaler()),\n",
    "                ])\n",
    "\n",
    "#Update the X-training data by first fitting and then transforming the original Xtraining data with the processing pipeline\n",
    "Xtrain = pipe.fit_transform(Xtrain)\n",
    "\n",
    "#Update the X-test data by transforming the original X-test data with the pipeline trained in the previous step\n",
    "Xtest = pipe.transform(Xtest)"
   ]
  },
  {
   "cell_type": "markdown",
   "id": "c8db421c",
   "metadata": {},
   "source": [
    "Run a linear regression model.  Compute the generalization RSME."
   ]
  },
  {
   "cell_type": "code",
   "execution_count": 125,
   "id": "f1d24af4",
   "metadata": {},
   "outputs": [
    {
     "name": "stdout",
     "output_type": "stream",
     "text": [
      "133.7872802475873\n"
     ]
    }
   ],
   "source": [
    "# code here\n",
    "\n",
    "#Fit Linear Regression model\n",
    "reg = LinearRegression()\n",
    "reg.fit(Xtrain, ytrain)\n",
    "\n",
    "#predict with test set\n",
    "ypred = reg.predict(Xtest)\n",
    "\n",
    "#get and print RMSE\n",
    "rmse = skm.mean_squared_error(ytest, ypred, squared=False)\n",
    "print(rmse)\n"
   ]
  },
  {
   "cell_type": "markdown",
   "id": "435f890e",
   "metadata": {},
   "source": [
    "Based on the generalization RSME, comment on how well your model performs in the markdown cell below.  For example, to what value should you compare the RMSE to determine if your model as any predictive power?"
   ]
  },
  {
   "attachments": {},
   "cell_type": "markdown",
   "id": "717a98db",
   "metadata": {},
   "source": [
    "Based on Elevation values from 2182 to 3675, an RMSE value of 133.79 (normalized as .09) is very good, which indicates that the model performs very well."
   ]
  },
  {
   "cell_type": "markdown",
   "id": "3b7aa592",
   "metadata": {},
   "source": [
    "---\n",
    "# Additional code\n",
    "\n",
    "Include the rest of the code that you used to answers the questions.  Please have neat, well commented code.  If you used a .py file, copy and paste your code in the cell below. "
   ]
  },
  {
   "cell_type": "code",
   "execution_count": 81,
   "id": "55bcded6",
   "metadata": {},
   "outputs": [
    {
     "data": {
      "text/plain": [
       "{'criterion': 'gini', 'max_depth': 12}"
      ]
     },
     "execution_count": 81,
     "metadata": {},
     "output_type": "execute_result"
    }
   ],
   "source": [
    "# ** CODE FOR Q4 **\n",
    "# ** Tuning parameters for Q4 **\n",
    "\n",
    "# Create the parameter grid based on the results of random search \n",
    "parameters = {\"criterion\": ('gini', 'entropy'), \"max_depth\":[2,4,6,8,10,12]}\n",
    "\n",
    "#create classifier\n",
    "tree = DecisionTreeClassifier()\n",
    "\n",
    "clf_GS = GridSearchCV(tree, parameters)\n",
    "clf_GS.fit(Xtrain, ytrain)\n",
    "clf_GS.best_params_"
   ]
  },
  {
   "cell_type": "code",
   "execution_count": null,
   "id": "ee7e8128",
   "metadata": {},
   "outputs": [],
   "source": [
    "# ** CODE FOR Q4 **\n",
    "# ** Tuning parameters for Q4 **\n",
    "\n",
    "# Create the parameter grid based on the results of random search \n",
    "parameters = {\"criterion\": ('gini', 'entropy'), \"max_depth\":[2,4,6,8,10,12]}\n",
    "\n",
    "#create classifier\n",
    "tree = DecisionTreeClassifier()\n",
    "\n",
    "clf_GS = GridSearchCV(tree, parameters)\n",
    "clf_GS.fit(Xtrain, ytrain)\n",
    "clf_GS.best_params_"
   ]
  },
  {
   "cell_type": "code",
   "execution_count": 170,
   "id": "5a1343ba",
   "metadata": {},
   "outputs": [
    {
     "data": {
      "image/png": "[encoded data removed]",
      "text/plain": [
       "<Figure size 1440x1440 with 1 Axes>"
      ]
     },
     "metadata": {
      "needs_background": "light"
     },
     "output_type": "display_data"
    }
   ],
   "source": [
    "# ** CODE FOR Q7 **\n",
    "\n",
    "importances = rf.feature_importances_\n",
    "std = np.std([tree.feature_importances_ for tree in rf.estimators_],\n",
    "             axis=0)\n",
    "indices = np.argsort(importances)\n",
    "\n",
    "# Plot the feature importances of the forest\n",
    "plt.figure(figsize=(20,20))\n",
    "plt.title(\"Feature importances\")\n",
    "plt.barh(range(X.shape[1]), importances[indices],\n",
    "       color=\"r\", xerr=std[indices], align=\"center\")\n",
    "# If you want to define your own labels,\n",
    "# change indices to a list of labels on the following line.\n",
    "plt.yticks(range(X.shape[1]), indices)\n",
    "plt.ylim([-1, X.shape[1]])\n",
    "plt.show()"
   ]
  },
  {
   "cell_type": "code",
   "execution_count": 122,
   "id": "0c969a25",
   "metadata": {},
   "outputs": [],
   "source": [
    "# ** CODE FOR Q8 **\n",
    "\n",
    "#Preparing newdata.csv set for predictions in Q8:\n",
    "\n",
    "new_pred = pd.read_csv('newdata.csv')\n",
    "\n",
    "#transform df to numerical with onehotencoder\n",
    "\n",
    "# select only the categorical columns\n",
    "categorical_columns = ['Soil_Type', 'Wilderness_Area']\n",
    "categorical_data = new_pred[categorical_columns]\n",
    "\n",
    "# create an instance of OneHotEncoder\n",
    "encoder = OneHotEncoder()\n",
    "\n",
    "# fit and transform the categorical data\n",
    "categorical_data = encoder.fit_transform(categorical_data)\n",
    "\n",
    "# convert the sparse matrix to a dataframe\n",
    "categorical_data = pd.DataFrame(categorical_data.toarray(), columns=encoder.get_feature_names_out(categorical_columns))\n",
    "\n",
    "# drop the original categorical columns from the original dataframe\n",
    "new_pred = new_pred.drop(categorical_columns, axis=1)\n",
    "\n",
    "# concatenate the dataframes to create a final dataframe with only numerical values\n",
    "new_pred = pd.concat([new_pred, categorical_data], axis=1)\n",
    "\n",
    "#Add missing zero columns from train set to match prediction\n",
    "new_pred[['Soil_Type_T11', 'Soil_Type_T13', 'Soil_Type_T16',\n",
    "       'Soil_Type_T17', 'Soil_Type_T18', 'Soil_Type_T19', 'Soil_Type_T2',\n",
    "       'Soil_Type_T20', 'Soil_Type_T21',\n",
    "       'Soil_Type_T24', 'Soil_Type_T25', 'Soil_Type_T26', 'Soil_Type_T27',\n",
    "       'Soil_Type_T28',  'Soil_Type_T3', 'Soil_Type_T30',\n",
    "       'Soil_Type_T31', 'Soil_Type_T34',\n",
    "       'Soil_Type_T35', 'Soil_Type_T36', 'Soil_Type_T38', 'Soil_Type_T39',\n",
    "       'Soil_Type_T4', 'Soil_Type_T40', 'Soil_Type_T6', 'Soil_Type_T7',\n",
    "       'Soil_Type_T8', 'Soil_Type_T9', 'Soil_Type_nan', \n",
    "       'Wilderness_Area_A2', 'Wilderness_Area_A4',\n",
    "       'Wilderness_Area_nan',]] = 0\n",
    "\n",
    "#rearange dataframe\n",
    "new_pred = new_pred[['Elevation', 'Aspect', 'Slope', 'Horizontal_Distance_To_Hydrology',\n",
    "       'Vertical_Distance_To_Hydrology', 'Horizontal_Distance_To_Roadways',\n",
    "       'Hillshade_9am', 'Hillshade_Noon', 'Hillshade_3pm',\n",
    "       'Horizontal_Distance_To_Fire_Points', 'Soil_Type_T10',\n",
    "       'Soil_Type_T11', 'Soil_Type_T12', 'Soil_Type_T13', 'Soil_Type_T16',\n",
    "       'Soil_Type_T17', 'Soil_Type_T18', 'Soil_Type_T19', 'Soil_Type_T2',\n",
    "       'Soil_Type_T20', 'Soil_Type_T21', 'Soil_Type_T22', 'Soil_Type_T23',\n",
    "       'Soil_Type_T24', 'Soil_Type_T25', 'Soil_Type_T26', 'Soil_Type_T27',\n",
    "       'Soil_Type_T28', 'Soil_Type_T29', 'Soil_Type_T3', 'Soil_Type_T30',\n",
    "       'Soil_Type_T31', 'Soil_Type_T32', 'Soil_Type_T33', 'Soil_Type_T34',\n",
    "       'Soil_Type_T35', 'Soil_Type_T36', 'Soil_Type_T38', 'Soil_Type_T39',\n",
    "       'Soil_Type_T4', 'Soil_Type_T40', 'Soil_Type_T6', 'Soil_Type_T7',\n",
    "       'Soil_Type_T8', 'Soil_Type_T9', 'Soil_Type_nan', 'Wilderness_Area_A1',\n",
    "       'Wilderness_Area_A2', 'Wilderness_Area_A3', 'Wilderness_Area_A4',\n",
    "       'Wilderness_Area_nan']]\n",
    "\n",
    "#Update the X-test data by transforming the original X-test data with the pipeline trained in the previous step\n",
    "new_pred = pipe.transform(new_pred)"
   ]
  },
  {
   "cell_type": "code",
   "execution_count": 109,
   "id": "258b067a",
   "metadata": {},
   "outputs": [
    {
     "data": {
      "text/plain": [
       "0.08960969875926811"
      ]
     },
     "execution_count": 109,
     "metadata": {},
     "output_type": "execute_result"
    }
   ],
   "source": [
    "# ** CODE Q9 **\n",
    "\n",
    "#Normalized RMSE\n",
    "\n",
    "rmse / (df['Elevation'].max() - df['Elevation'].min())"
   ]
  },
  {
   "cell_type": "code",
   "execution_count": null,
   "id": "78a6b9fd",
   "metadata": {},
   "outputs": [],
   "source": []
  }
 ],
 "metadata": {
  "kernelspec": {
   "display_name": "Python 3 (ipykernel)",
   "language": "python",
   "name": "python3"
  },
  "language_info": {
   "codemirror_mode": {
    "name": "ipython",
    "version": 3
   },
   "file_extension": ".py",
   "mimetype": "text/x-python",
   "name": "python",
   "nbconvert_exporter": "python",
   "pygments_lexer": "ipython3",
   "version": "3.10.2"
  }
 },
 "nbformat": 4,
 "nbformat_minor": 5
}
